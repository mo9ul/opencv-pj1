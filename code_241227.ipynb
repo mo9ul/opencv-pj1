{
 "cells": [
  {
   "metadata": {
    "ExecuteTime": {
     "end_time": "2024-12-27T12:00:16.546955Z",
     "start_time": "2024-12-27T12:00:14.212362Z"
    }
   },
   "cell_type": "code",
   "source": [
    "import sys\n",
    "import cv2\n",
    "import pytesseract\n",
    "from PIL import Image\n",
    "\n",
    "print (\"python: \", sys.version)\n",
    "print (\"opencv: \", cv2.__version__)\n",
    "print (\"pytesseract: \", pytesseract.image_to_string(Image.open('/Users/jun/Desktop/인프런/open cv 명함인식/강의자료/OpenCV-Python-명함인식-Example(python3.5&opencv3.2)/images/sample.png')))"
   ],
   "id": "72eef37a25e82edd",
   "outputs": [
    {
     "name": "stdout",
     "output_type": "stream",
     "text": [
      "python:  3.11.3 (main, Apr 19 2023, 18:49:55) [Clang 14.0.6 ]\n",
      "opencv:  4.8.0\n",
      "pytesseract:  \n"
     ]
    }
   ],
   "execution_count": 5
  },
  {
   "metadata": {
    "ExecuteTime": {
     "end_time": "2024-12-27T12:58:52.645535Z",
     "start_time": "2024-12-27T12:58:51.901593Z"
    }
   },
   "cell_type": "code",
   "source": [
    "import numpy as np\n",
    "import cv2\n",
    "\n",
    "def handle_image():\n",
    "    imgfile = '/Users/jun/Desktop/인프런/open cv 명함인식/강의자료/OpenCV-Python-명함인식-Example(python3.5&opencv3.2)/images/sample.png'\n",
    "    img = cv2.imread(imgfile, cv2.IMREAD_GRAYSCALE)\n",
    "\n",
    "    cv2.namedWindow('image', cv2.WINDOW_NORMAL)\n",
    "    cv2.imshow('image', img)\n",
    "    k = cv2.waitKey(0)\n",
    "    if k == 27: #아스키코드 27은 esc를 의미한다\n",
    "        cv2.destroyAllWindows()\n",
    "        cv2.waitKey(1)\n",
    "    elif k == ord('s'): #ord는 아스키코드값을 반환\n",
    "        cv2.imwrite('grayImage.png', img)\n",
    "        cv2.destroyAllWindows()\n",
    "        cv2.waitKey(1)\n",
    "\n",
    "if __name__ == '__main__':\n",
    "    handle_image()"
   ],
   "id": "b820db1928792fb3",
   "outputs": [],
   "execution_count": 3
  },
  {
   "metadata": {},
   "cell_type": "code",
   "outputs": [],
   "execution_count": null,
   "source": "",
   "id": "6b0b6a89c54dee0e"
  }
 ],
 "metadata": {
  "kernelspec": {
   "name": "python3",
   "language": "python",
   "display_name": "Python 3 (ipykernel)"
  }
 },
 "nbformat": 5,
 "nbformat_minor": 9
}
