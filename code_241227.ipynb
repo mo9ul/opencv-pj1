{
 "cells": [
  {
   "metadata": {
    "ExecuteTime": {
     "end_time": "2024-12-27T12:00:16.546955Z",
     "start_time": "2024-12-27T12:00:14.212362Z"
    }
   },
   "cell_type": "code",
   "source": [
    "import sys\n",
    "import cv2\n",
    "import pytesseract\n",
    "from PIL import Image\n",
    "\n",
    "print (\"python: \", sys.version)\n",
    "print (\"opencv: \", cv2.__version__)\n",
    "print (\"pytesseract: \", pytesseract.image_to_string(Image.open('/Users/jun/Desktop/인프런/open cv 명함인식/강의자료/OpenCV-Python-명함인식-Example(python3.5&opencv3.2)/images/sample.png')))"
   ],
   "id": "72eef37a25e82edd",
   "outputs": [
    {
     "name": "stdout",
     "output_type": "stream",
     "text": [
      "python:  3.11.3 (main, Apr 19 2023, 18:49:55) [Clang 14.0.6 ]\n",
      "opencv:  4.8.0\n",
      "pytesseract:  \n"
     ]
    }
   ],
   "execution_count": 5
  },
  {
   "metadata": {
    "ExecuteTime": {
     "end_time": "2024-12-27T12:58:52.645535Z",
     "start_time": "2024-12-27T12:58:51.901593Z"
    }
   },
   "cell_type": "code",
   "source": [
    "import numpy as np\n",
    "import cv2\n",
    "\n",
    "def handle_image():\n",
    "    imgfile = '/Users/jun/Desktop/인프런/open cv 명함인식/강의자료/OpenCV-Python-명함인식-Example(python3.5&opencv3.2)/images/sample.png'\n",
    "    img = cv2.imread(imgfile, cv2.IMREAD_GRAYSCALE)\n",
    "\n",
    "    cv2.namedWindow('image', cv2.WINDOW_NORMAL)\n",
    "    cv2.imshow('image', img)\n",
    "    k = cv2.waitKey(0)\n",
    "    if k == 27: #아스키코드 27은 esc를 의미한다\n",
    "        cv2.destroyAllWindows()\n",
    "        cv2.waitKey(1)\n",
    "    elif k == ord('s'): #ord는 아스키코드값을 반환\n",
    "        cv2.imwrite('grayImage.png', img)\n",
    "        cv2.destroyAllWindows()\n",
    "        cv2.waitKey(1)\n",
    "\n",
    "if __name__ == '__main__':\n",
    "    handle_image()"
   ],
   "id": "b820db1928792fb3",
   "outputs": [],
   "execution_count": 3
  },
  {
   "metadata": {
    "ExecuteTime": {
     "end_time": "2024-12-27T14:10:15.119311Z",
     "start_time": "2024-12-27T14:10:12.067418Z"
    }
   },
   "cell_type": "code",
   "source": [
    "import numpy as np\n",
    "import cv2\n",
    "from matplotlib import pyplot as plt\n",
    "\n",
    "def contour():\n",
    "    imgfile = '/Users/jun/Desktop/인프런/open cv 명함인식/강의자료/OpenCV-Python-명함인식-Example(python3.5&opencv3.2)/images/contour.jpg'\n",
    "    img = cv2.imread(imgfile)\n",
    "    #회색음영으로 전환한 이미지를 할당할 새로운 변수를 만들어줌.\n",
    "    imgray = cv2.cvtColor(img, cv2.COLOR_BGR2GRAY)\n",
    "\n",
    "    #Canny는 edge를 찾는 함수. 두번째, 세번째 파라미터 값은 임계값을 의미함.\n",
    "    edge = cv2.Canny(imgray, 100, 200)\n",
    "    contours, hierarchy = cv2.findContours(edge, cv2.RETR_TREE, cv2.CHAIN_APPROX_SIMPLE)\n",
    "\n",
    "    cv2.imshow('edge', edge)\n",
    "    #초록색(0, 255, 0)이 각각 b,g,r값을 의미함. -> 초록색 외곽선 생성\n",
    "    cv2.drawContours(img, contours, -1, (0, 255, 0), 1)\n",
    "    cv2.imshow('Contour', img)\n",
    "\n",
    "    cv2.waitKey(0)\n",
    "    cv2.destroyAllWindows()\n",
    "    cv2.waitKey(1)\n",
    "\n",
    "if __name__ == '__main__':\n",
    "    contour()"
   ],
   "id": "6b0b6a89c54dee0e",
   "outputs": [],
   "execution_count": 6
  },
  {
   "metadata": {
    "ExecuteTime": {
     "end_time": "2024-12-28T09:48:42.878538Z",
     "start_time": "2024-12-28T09:48:28.985261Z"
    }
   },
   "cell_type": "code",
   "source": [
    "import numpy as np\n",
    "import cv2\n",
    "from matplotlib import pyplot as plt\n",
    "\n",
    "def contour_approx():\n",
    "    imgfile = '/Users/jun/Desktop/인프런/open cv 명함인식/강의자료/OpenCV-Python-명함인식-Example(python3.5&opencv3.2)/images/contour2.png'\n",
    "    img = cv2.imread(imgfile)\n",
    "    img2 = img.copy()\n",
    "    imgray = cv2.cvtColor(img, cv2.COLOR_BGR2GRAY)\n",
    "\n",
    "    edge = cv2.Canny(imgray, 100, 200)\n",
    "    contours, hierarchy = cv2.findContours(edge, cv2.RETR_TREE, cv2.CHAIN_APPROX_SIMPLE)\n",
    "\n",
    "    cnt = contours[0]\n",
    "    cv2.drawContours(img, [cnt], 0, (0, 255, 0), 3)\n",
    "\n",
    "    epsilon = 0.1 * cv2.arcLength(cnt, True)\n",
    "\n",
    "    approx = cv2.approxPolyDP(cnt, epsilon, True)\n",
    "\n",
    "    cv2.drawContours(img2, [approx], 0, (0, 255, 0), 3)\n",
    "\n",
    "    cv2.imshow('Contour', img)\n",
    "    cv2.imshow('Approx', img2)\n",
    "\n",
    "    cv2.waitKey(0)\n",
    "    cv2.destroyAllWindows()\n",
    "    cv2.waitKey(1)\n",
    "\n",
    "if __name__ == '__main__':\n",
    "    contour_approx()"
   ],
   "id": "6482246df31dc4df",
   "outputs": [],
   "execution_count": 3
  },
  {
   "metadata": {
    "ExecuteTime": {
     "end_time": "2024-12-28T10:18:21.595009Z",
     "start_time": "2024-12-28T10:17:56.185908Z"
    }
   },
   "cell_type": "code",
   "source": [
    "import numpy as np\n",
    "import cv2\n",
    "\n",
    "def warpAffine():\n",
    "    img = cv2.imread('/Users/jun/Desktop/인프런/open cv 명함인식/강의자료/OpenCV-Python-명함인식-Example(python3.5&opencv3.2)/images/transform.png')\n",
    "\n",
    "    pts1 = np.float32([[50, 50],  [200, 50], [20, 200]])\n",
    "    pts2 = np.float32([[70, 100], [220, 50], [150, 250]])\n",
    "\n",
    "    M = cv2.getAffineTransform(pts1, pts2)\n",
    "\n",
    "    result = cv2.warpAffine(img, M, (350, 300))\n",
    "\n",
    "    cv2.imshow('original', img)\n",
    "    cv2.imshow('Affine Transform', result)\n",
    "\n",
    "    cv2.waitKey(0)\n",
    "    cv2.destroyAllWindows()\n",
    "    cv2.waitKey(1)\n",
    "\n",
    "if __name__ == '__main__':\n",
    "    warpAffine()"
   ],
   "id": "8b0fa20b010534e4",
   "outputs": [],
   "execution_count": 5
  },
  {
   "metadata": {
    "ExecuteTime": {
     "end_time": "2024-12-28T10:33:52.318400Z",
     "start_time": "2024-12-28T10:33:48.649456Z"
    }
   },
   "cell_type": "code",
   "source": [
    "import numpy as np\n",
    "import cv2\n",
    "\n",
    "def warpPerspective():\n",
    "    img = cv2.imread('/Users/jun/Desktop/인프런/open cv 명함인식/강의자료/OpenCV-Python-명함인식-Example(python3.5&opencv3.2)/images/transform.jpg')\n",
    "\n",
    "    # 원본 이미지의 각 꼭지점 좌표는 이미 알고 있다고 가정하는 것\n",
    "    topLeft = [127, 157]\n",
    "    topRight = [448, 152]\n",
    "    bottomRight = [579, 526]\n",
    "    bottomLeft = [54, 549]\n",
    "    # 변환되기 전 좌표\n",
    "    pts1 = np.float32([topLeft, topRight, bottomRight, bottomLeft])\n",
    "    # abs는 절댓값을 구하는 함수\n",
    "    w1 = abs(bottomRight[0] - bottomLeft[0])\n",
    "    w2 = abs(topRight[0] - topLeft[0])\n",
    "    h1 = abs(topRight[1] - bottomRight[1])\n",
    "    h2 = abs(topLeft[1] - bottomLeft[1])\n",
    "    minWidth = min([w1, w2])\n",
    "    minHeight = min([h1, h2])\n",
    "\n",
    "    pts2 = np.float32([[0, 0], [minWidth - 1, 0], [minWidth - 1, minHeight - 1], [0, minHeight - 1]])\n",
    "    # getPesrpective함수는 원근보정까지 고려한다\n",
    "    M = cv2.getPerspectiveTransform(pts1, pts2)\n",
    "\n",
    "    result = cv2.warpPerspective(img, M, (int(minWidth), int(minHeight)))\n",
    "\n",
    "    cv2.imshow('original', img)\n",
    "    cv2.imshow('Warp Transform', result)\n",
    "\n",
    "    cv2.waitKey(0)\n",
    "    cv2.destroyAllWindows()\n",
    "    cv2.waitKey(1)\n",
    "\n",
    "if __name__ == '__main__':\n",
    "    warpPerspective()"
   ],
   "id": "c7dfe8bb3ee90677",
   "outputs": [],
   "execution_count": 7
  }
 ],
 "metadata": {
  "kernelspec": {
   "name": "python3",
   "language": "python",
   "display_name": "Python 3 (ipykernel)"
  }
 },
 "nbformat": 5,
 "nbformat_minor": 9
}
